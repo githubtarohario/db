{
 "cells": [
  {
   "cell_type": "code",
   "execution_count": 35,
   "metadata": {},
   "outputs": [
    {
     "name": "stdout",
     "output_type": "stream",
     "text": [
      "('6', 'Tset Name', 170, 80)\n",
      "('6', 'Tset Name', 170, 80)\n",
      "('6', 'Tset Name', 170, 80)\n"
     ]
    }
   ],
   "source": [
    "import sqlite3\n",
    "dbname='test.db'\n",
    "conn=sqlite3.connect(dbname)\n",
    "c = conn.cursor()\n",
    "select_sql = \"select No,name,height,weight from giants \"\n",
    "for row in c.execute(select_sql):\n",
    "    print(row)\n",
    "conn.close()"
   ]
  },
  {
   "cell_type": "code",
   "execution_count": 36,
   "metadata": {},
   "outputs": [
    {
     "name": "stdout",
     "output_type": "stream",
     "text": [
      "6 Tset Name 170 80\n",
      "6 Tset Name 170 80\n",
      "6 Tset Name 170 80\n"
     ]
    }
   ],
   "source": [
    "bname='test.db'\n",
    "conn=sqlite3.connect(dbname)\n",
    "c = conn.cursor()\n",
    "select_sql = \"select No,name,height,weight from giants \"\n",
    "for row in c.execute(select_sql):\n",
    "    print(row[0],row[1],row[2],row[3])\n",
    "conn.close()"
   ]
  },
  {
   "cell_type": "code",
   "execution_count": 34,
   "metadata": {},
   "outputs": [
    {
     "name": "stdout",
     "output_type": "stream",
     "text": [
      "追加しました 6 Tset Name\n"
     ]
    }
   ],
   "source": [
    "import sqlite3\n",
    "conn = None\n",
    "No='6' \n",
    "name='Tset Name' \n",
    "hight=170\n",
    "weight=80\n",
    "dbpath=\"Test.db\"\n",
    "try:\n",
    "    conn = sqlite3.connect(dbpath, isolation_level='EXCLUSIVE')\n",
    "    sql = 'INSERT INTO giants(No,name,hight,weight) VALUES(?,?,?,?)'\n",
    "    data = (No,name,hight,weight)\n",
    "    conn.execute(sql, data)\n",
    "except e:\n",
    "    print(e)\n",
    "    if conn: conn.rollback()\n",
    "finally:\n",
    "    if conn: conn.commit()\n",
    "print(\"追加しました\",No,name)"
   ]
  },
  {
   "cell_type": "code",
   "execution_count": 29,
   "metadata": {},
   "outputs": [
    {
     "name": "stdout",
     "output_type": "stream",
     "text": [
      "削除しました\n"
     ]
    }
   ],
   "source": [
    "import sqlite3 \n",
    "dbname='test.db'\n",
    "try:\n",
    "    conn=sqlite3.connect(dbname)\n",
    "    c = conn.cursor()\n",
    "    No=\"6\"\n",
    "    sql =\"delete from giants where No=?\"\n",
    "    data=(No)\n",
    "    c.execute(sql,data)\n",
    "    conn.commit()\n",
    "except e:\n",
    "    print(e)\n",
    "    if conn: conn.rollback()\n",
    "finally:\n",
    "    if conn: conn.commit()\n",
    "conn.close()\n",
    "print(\"削除しました\")"
   ]
  },
  {
   "cell_type": "code",
   "execution_count": null,
   "metadata": {},
   "outputs": [],
   "source": []
  }
 ],
 "metadata": {
  "kernelspec": {
   "display_name": "Python 3",
   "language": "python",
   "name": "python3"
  },
  "language_info": {
   "codemirror_mode": {
    "name": "ipython",
    "version": 3
   },
   "file_extension": ".py",
   "mimetype": "text/x-python",
   "name": "python",
   "nbconvert_exporter": "python",
   "pygments_lexer": "ipython3",
   "version": "3.7.6"
  }
 },
 "nbformat": 4,
 "nbformat_minor": 4
}
